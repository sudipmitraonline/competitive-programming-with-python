{
  "nbformat": 4,
  "nbformat_minor": 0,
  "metadata": {
    "colab": {
      "name": "gcd and lcm.ipynb",
      "provenance": [],
      "authorship_tag": "ABX9TyMO+Rb/0U+j9DWq+PNmBPyT"
    },
    "kernelspec": {
      "name": "python3",
      "display_name": "Python 3"
    },
    "language_info": {
      "name": "python"
    }
  },
  "cells": [
    {
      "cell_type": "code",
      "metadata": {
        "colab": {
          "base_uri": "https://localhost:8080/"
        },
        "id": "rwbzzrUIr_I3",
        "outputId": "3fc832bd-d862-4c51-de25-5aba22884b79"
      },
      "source": [
        "def gcd(a,b) :\n",
        "  #euclid algo\n",
        "  #time complexity = O(min(a,b))\n",
        "  if a == 0 :\n",
        "    return b\n",
        "  return gcd(b%a , a)\n",
        "\n",
        "def lcm(a,b) :\n",
        "  #product = lcm * gcd\n",
        "  product = a*b\n",
        "  hcf = gcd(a,b)\n",
        "  return product // hcf\n",
        "\n",
        "#@Author : Sudip Mitra\n",
        "#Email : sudipmitraonline@gmail.com\n",
        "t = int(input())\n",
        "while(t) :\n",
        "  n,m = map(int,input().split())\n",
        "  print(\"gcd = {}\\nlcm = {}\".format(gcd(n,m),lcm(n,m)))\n",
        "  t = t-1"
      ],
      "execution_count": 3,
      "outputs": [
        {
          "output_type": "stream",
          "text": [
            "3\n",
            "20 50\n",
            "gcd = 10\n",
            "lcm = 100\n",
            "40 70\n",
            "gcd = 10\n",
            "lcm = 280\n",
            "5 10\n",
            "gcd = 5\n",
            "lcm = 10\n"
          ],
          "name": "stdout"
        }
      ]
    }
  ]
}
