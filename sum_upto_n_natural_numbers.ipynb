{
  "nbformat": 4,
  "nbformat_minor": 0,
  "metadata": {
    "colab": {
      "name": "sum upto n natural numbers.ipynb",
      "provenance": [],
      "authorship_tag": "ABX9TyPxtZZFfKWPTYIjl8XMONO6"
    },
    "kernelspec": {
      "name": "python3",
      "display_name": "Python 3"
    },
    "language_info": {
      "name": "python"
    }
  },
  "cells": [
    {
      "cell_type": "code",
      "metadata": {
        "id": "nrjJCjjRj4qU",
        "colab": {
          "base_uri": "https://localhost:8080/"
        },
        "outputId": "664a1c13-2978-4bf7-f1b9-f9b8d59b2d64"
      },
      "source": [
        "def sum1(n) :\n",
        "  # Time Complexity : O(1)\n",
        "  return n*(n+1)//2\n",
        "\n",
        "def sum2(n) :\n",
        "  # Time Complexity : O(n)\n",
        "  sm = 0\n",
        "  for i in range(1,n+1) :\n",
        "    sm = sm + i\n",
        "  return sm\n",
        "\n",
        "#@Author : Sudip Mitra\n",
        "#E-mail : sudipmitraonline@gmail.com\n",
        "n = int(input(\"Enter the n'th term : \"))\n",
        "print(\"sum1 executed output {}\".format(sum1(n)))\n",
        "print(\"sum2 executed output {}\".format(sum2(n)))\n"
      ],
      "execution_count": 7,
      "outputs": [
        {
          "output_type": "stream",
          "text": [
            "Enter the n'th term : 77777966\n",
            "sum1 executed output 3024706036437561\n",
            "sum2 executed output 3024706036437561\n"
          ],
          "name": "stdout"
        }
      ]
    }
  ]
}